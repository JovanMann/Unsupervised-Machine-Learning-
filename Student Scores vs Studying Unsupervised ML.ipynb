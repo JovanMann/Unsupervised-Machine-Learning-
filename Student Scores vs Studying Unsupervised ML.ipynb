{
 "cells": [
  {
   "cell_type": "markdown",
   "id": "6b50a575",
   "metadata": {},
   "source": [
    "# Prediction Using Supervised Machine Learning\n",
    "\n",
    "## Background \n",
    "\n",
    "This data looks at a student’s exam performance denoted by ‘score’ and hours they have spent studying for an exam denoted by ‘hours’. We would expect that the greater the hours spent studying, the better the exam scores. In this project I will analyse the relationship between the two variables and make simple predictions using the data extracted from http://bit.ly/w-data."
   ]
  },
  {
   "cell_type": "markdown",
   "id": "9396a148",
   "metadata": {},
   "source": [
    "## Problem Statement \n",
    "\n",
    "Student’s performance is determined by hours spent revising but is it always the case that more hours spent studying equals better scores or could there be anomalies? I will be making a simple prediction on score based off 9.25 hrs/ day. \n",
    "\n",
    "## Methodology\n",
    "\n",
    "To make a prediction and analyse the relationship between the two variables I will be using Python-Scikit Learn library for machine learning. This package will allow us to implement regression functions. First, I ensured that the data being used was in the correct format and that there no errors or NULL values in the dataset to get the correct output. I completed this using Excel and converted the file into a .csv file."
   ]
  },
  {
   "cell_type": "markdown",
   "id": "16094244",
   "metadata": {},
   "source": [
    "# 1-  Importing relevant libraries\n"
   ]
  },
  {
   "cell_type": "code",
   "execution_count": 3,
   "id": "e06a77ed",
   "metadata": {},
   "outputs": [
    {
     "name": "stdout",
     "output_type": "stream",
     "text": [
      "Requirement already satisfied: lux-api in /Users/jovan/opt/anaconda3/lib/python3.9/site-packages (0.4.0)\n",
      "Requirement already satisfied: numpy>=1.16.5 in /Users/jovan/opt/anaconda3/lib/python3.9/site-packages (from lux-api) (1.20.3)\n",
      "Requirement already satisfied: autopep8>=1.5 in /Users/jovan/opt/anaconda3/lib/python3.9/site-packages (from lux-api) (1.5.7)\n",
      "Requirement already satisfied: matplotlib>=3.0.0 in /Users/jovan/opt/anaconda3/lib/python3.9/site-packages (from lux-api) (3.4.3)\n",
      "Requirement already satisfied: pandas<1.3.0,>=1.2.0 in /Users/jovan/opt/anaconda3/lib/python3.9/site-packages (from lux-api) (1.2.5)\n",
      "Requirement already satisfied: scipy>=1.3.3 in /Users/jovan/opt/anaconda3/lib/python3.9/site-packages (from lux-api) (1.7.1)\n",
      "Requirement already satisfied: altair>=4.0.0 in /Users/jovan/opt/anaconda3/lib/python3.9/site-packages (from lux-api) (4.2.0)\n",
      "Requirement already satisfied: iso3166 in /Users/jovan/opt/anaconda3/lib/python3.9/site-packages (from lux-api) (2.0.2)\n",
      "Requirement already satisfied: scikit-learn>=0.22 in /Users/jovan/opt/anaconda3/lib/python3.9/site-packages (from lux-api) (0.24.2)\n",
      "Requirement already satisfied: lux-widget>=0.1.4 in /Users/jovan/opt/anaconda3/lib/python3.9/site-packages (from lux-api) (0.1.10)\n",
      "Requirement already satisfied: jinja2 in /Users/jovan/opt/anaconda3/lib/python3.9/site-packages (from altair>=4.0.0->lux-api) (2.11.3)\n",
      "Requirement already satisfied: entrypoints in /Users/jovan/opt/anaconda3/lib/python3.9/site-packages (from altair>=4.0.0->lux-api) (0.3)\n",
      "Requirement already satisfied: jsonschema>=3.0 in /Users/jovan/opt/anaconda3/lib/python3.9/site-packages (from altair>=4.0.0->lux-api) (3.2.0)\n",
      "Requirement already satisfied: toolz in /Users/jovan/opt/anaconda3/lib/python3.9/site-packages (from altair>=4.0.0->lux-api) (0.11.1)\n",
      "Requirement already satisfied: pycodestyle>=2.7.0 in /Users/jovan/opt/anaconda3/lib/python3.9/site-packages (from autopep8>=1.5->lux-api) (2.7.0)\n",
      "Requirement already satisfied: toml in /Users/jovan/opt/anaconda3/lib/python3.9/site-packages (from autopep8>=1.5->lux-api) (0.10.2)\n",
      "Requirement already satisfied: six>=1.11.0 in /Users/jovan/opt/anaconda3/lib/python3.9/site-packages (from jsonschema>=3.0->altair>=4.0.0->lux-api) (1.16.0)\n",
      "Requirement already satisfied: pyrsistent>=0.14.0 in /Users/jovan/opt/anaconda3/lib/python3.9/site-packages (from jsonschema>=3.0->altair>=4.0.0->lux-api) (0.18.0)\n",
      "Requirement already satisfied: attrs>=17.4.0 in /Users/jovan/opt/anaconda3/lib/python3.9/site-packages (from jsonschema>=3.0->altair>=4.0.0->lux-api) (21.2.0)\n",
      "Requirement already satisfied: setuptools in /Users/jovan/opt/anaconda3/lib/python3.9/site-packages (from jsonschema>=3.0->altair>=4.0.0->lux-api) (58.0.4)\n",
      "Requirement already satisfied: notebook>=4.0.0 in /Users/jovan/opt/anaconda3/lib/python3.9/site-packages (from lux-widget>=0.1.4->lux-api) (6.4.5)\n",
      "Requirement already satisfied: ipywidgets>=7.5.0 in /Users/jovan/opt/anaconda3/lib/python3.9/site-packages (from lux-widget>=0.1.4->lux-api) (7.6.5)\n",
      "Requirement already satisfied: ipykernel>=4.5.1 in /Users/jovan/opt/anaconda3/lib/python3.9/site-packages (from ipywidgets>=7.5.0->lux-widget>=0.1.4->lux-api) (6.4.1)\n",
      "Requirement already satisfied: jupyterlab-widgets>=1.0.0 in /Users/jovan/opt/anaconda3/lib/python3.9/site-packages (from ipywidgets>=7.5.0->lux-widget>=0.1.4->lux-api) (1.0.0)\n",
      "Requirement already satisfied: nbformat>=4.2.0 in /Users/jovan/opt/anaconda3/lib/python3.9/site-packages (from ipywidgets>=7.5.0->lux-widget>=0.1.4->lux-api) (5.1.3)\n",
      "Requirement already satisfied: widgetsnbextension~=3.5.0 in /Users/jovan/opt/anaconda3/lib/python3.9/site-packages (from ipywidgets>=7.5.0->lux-widget>=0.1.4->lux-api) (3.5.1)\n",
      "Requirement already satisfied: ipython-genutils~=0.2.0 in /Users/jovan/opt/anaconda3/lib/python3.9/site-packages (from ipywidgets>=7.5.0->lux-widget>=0.1.4->lux-api) (0.2.0)\n",
      "Requirement already satisfied: ipython>=4.0.0 in /Users/jovan/opt/anaconda3/lib/python3.9/site-packages (from ipywidgets>=7.5.0->lux-widget>=0.1.4->lux-api) (7.29.0)\n",
      "Requirement already satisfied: traitlets>=4.3.1 in /Users/jovan/opt/anaconda3/lib/python3.9/site-packages (from ipywidgets>=7.5.0->lux-widget>=0.1.4->lux-api) (5.1.0)\n",
      "Requirement already satisfied: debugpy<2.0,>=1.0.0 in /Users/jovan/opt/anaconda3/lib/python3.9/site-packages (from ipykernel>=4.5.1->ipywidgets>=7.5.0->lux-widget>=0.1.4->lux-api) (1.4.1)\n",
      "Requirement already satisfied: matplotlib-inline<0.2.0,>=0.1.0 in /Users/jovan/opt/anaconda3/lib/python3.9/site-packages (from ipykernel>=4.5.1->ipywidgets>=7.5.0->lux-widget>=0.1.4->lux-api) (0.1.2)\n",
      "Requirement already satisfied: tornado<7.0,>=4.2 in /Users/jovan/opt/anaconda3/lib/python3.9/site-packages (from ipykernel>=4.5.1->ipywidgets>=7.5.0->lux-widget>=0.1.4->lux-api) (6.1)\n",
      "Requirement already satisfied: jupyter-client<8.0 in /Users/jovan/opt/anaconda3/lib/python3.9/site-packages (from ipykernel>=4.5.1->ipywidgets>=7.5.0->lux-widget>=0.1.4->lux-api) (6.1.12)\n",
      "Requirement already satisfied: appnope in /Users/jovan/opt/anaconda3/lib/python3.9/site-packages (from ipykernel>=4.5.1->ipywidgets>=7.5.0->lux-widget>=0.1.4->lux-api) (0.1.2)\n",
      "Requirement already satisfied: pickleshare in /Users/jovan/opt/anaconda3/lib/python3.9/site-packages (from ipython>=4.0.0->ipywidgets>=7.5.0->lux-widget>=0.1.4->lux-api) (0.7.5)\n",
      "Requirement already satisfied: decorator in /Users/jovan/opt/anaconda3/lib/python3.9/site-packages (from ipython>=4.0.0->ipywidgets>=7.5.0->lux-widget>=0.1.4->lux-api) (5.1.0)\n",
      "Requirement already satisfied: pexpect>4.3 in /Users/jovan/opt/anaconda3/lib/python3.9/site-packages (from ipython>=4.0.0->ipywidgets>=7.5.0->lux-widget>=0.1.4->lux-api) (4.8.0)\n",
      "Requirement already satisfied: backcall in /Users/jovan/opt/anaconda3/lib/python3.9/site-packages (from ipython>=4.0.0->ipywidgets>=7.5.0->lux-widget>=0.1.4->lux-api) (0.2.0)\n",
      "Requirement already satisfied: jedi>=0.16 in /Users/jovan/opt/anaconda3/lib/python3.9/site-packages (from ipython>=4.0.0->ipywidgets>=7.5.0->lux-widget>=0.1.4->lux-api) (0.18.0)\n",
      "Requirement already satisfied: prompt-toolkit!=3.0.0,!=3.0.1,<3.1.0,>=2.0.0 in /Users/jovan/opt/anaconda3/lib/python3.9/site-packages (from ipython>=4.0.0->ipywidgets>=7.5.0->lux-widget>=0.1.4->lux-api) (3.0.20)\n",
      "Requirement already satisfied: pygments in /Users/jovan/opt/anaconda3/lib/python3.9/site-packages (from ipython>=4.0.0->ipywidgets>=7.5.0->lux-widget>=0.1.4->lux-api) (2.10.0)\n",
      "Requirement already satisfied: parso<0.9.0,>=0.8.0 in /Users/jovan/opt/anaconda3/lib/python3.9/site-packages (from jedi>=0.16->ipython>=4.0.0->ipywidgets>=7.5.0->lux-widget>=0.1.4->lux-api) (0.8.2)\n",
      "Requirement already satisfied: jupyter-core>=4.6.0 in /Users/jovan/opt/anaconda3/lib/python3.9/site-packages (from jupyter-client<8.0->ipykernel>=4.5.1->ipywidgets>=7.5.0->lux-widget>=0.1.4->lux-api) (4.8.1)\n",
      "Requirement already satisfied: pyzmq>=13 in /Users/jovan/opt/anaconda3/lib/python3.9/site-packages (from jupyter-client<8.0->ipykernel>=4.5.1->ipywidgets>=7.5.0->lux-widget>=0.1.4->lux-api) (22.2.1)\n",
      "Requirement already satisfied: python-dateutil>=2.1 in /Users/jovan/opt/anaconda3/lib/python3.9/site-packages (from jupyter-client<8.0->ipykernel>=4.5.1->ipywidgets>=7.5.0->lux-widget>=0.1.4->lux-api) (2.8.2)\n",
      "Requirement already satisfied: kiwisolver>=1.0.1 in /Users/jovan/opt/anaconda3/lib/python3.9/site-packages (from matplotlib>=3.0.0->lux-api) (1.3.1)\n",
      "Requirement already satisfied: cycler>=0.10 in /Users/jovan/opt/anaconda3/lib/python3.9/site-packages (from matplotlib>=3.0.0->lux-api) (0.10.0)\n",
      "Requirement already satisfied: pillow>=6.2.0 in /Users/jovan/opt/anaconda3/lib/python3.9/site-packages (from matplotlib>=3.0.0->lux-api) (8.4.0)\n",
      "Requirement already satisfied: pyparsing>=2.2.1 in /Users/jovan/opt/anaconda3/lib/python3.9/site-packages (from matplotlib>=3.0.0->lux-api) (3.0.4)\n",
      "Requirement already satisfied: argon2-cffi in /Users/jovan/opt/anaconda3/lib/python3.9/site-packages (from notebook>=4.0.0->lux-widget>=0.1.4->lux-api) (20.1.0)\n",
      "Requirement already satisfied: prometheus-client in /Users/jovan/opt/anaconda3/lib/python3.9/site-packages (from notebook>=4.0.0->lux-widget>=0.1.4->lux-api) (0.11.0)\n",
      "Requirement already satisfied: Send2Trash>=1.5.0 in /Users/jovan/opt/anaconda3/lib/python3.9/site-packages (from notebook>=4.0.0->lux-widget>=0.1.4->lux-api) (1.8.0)\n",
      "Requirement already satisfied: terminado>=0.8.3 in /Users/jovan/opt/anaconda3/lib/python3.9/site-packages (from notebook>=4.0.0->lux-widget>=0.1.4->lux-api) (0.9.4)\n",
      "Requirement already satisfied: nbconvert in /Users/jovan/opt/anaconda3/lib/python3.9/site-packages (from notebook>=4.0.0->lux-widget>=0.1.4->lux-api) (6.1.0)\n",
      "Requirement already satisfied: pytz>=2017.3 in /Users/jovan/opt/anaconda3/lib/python3.9/site-packages (from pandas<1.3.0,>=1.2.0->lux-api) (2021.3)\n"
     ]
    },
    {
     "name": "stdout",
     "output_type": "stream",
     "text": [
      "Requirement already satisfied: ptyprocess>=0.5 in /Users/jovan/opt/anaconda3/lib/python3.9/site-packages (from pexpect>4.3->ipython>=4.0.0->ipywidgets>=7.5.0->lux-widget>=0.1.4->lux-api) (0.7.0)\n",
      "Requirement already satisfied: wcwidth in /Users/jovan/opt/anaconda3/lib/python3.9/site-packages (from prompt-toolkit!=3.0.0,!=3.0.1,<3.1.0,>=2.0.0->ipython>=4.0.0->ipywidgets>=7.5.0->lux-widget>=0.1.4->lux-api) (0.2.5)\n",
      "Requirement already satisfied: threadpoolctl>=2.0.0 in /Users/jovan/opt/anaconda3/lib/python3.9/site-packages (from scikit-learn>=0.22->lux-api) (2.2.0)\n",
      "Requirement already satisfied: joblib>=0.11 in /Users/jovan/opt/anaconda3/lib/python3.9/site-packages (from scikit-learn>=0.22->lux-api) (1.1.0)\n",
      "Requirement already satisfied: cffi>=1.0.0 in /Users/jovan/opt/anaconda3/lib/python3.9/site-packages (from argon2-cffi->notebook>=4.0.0->lux-widget>=0.1.4->lux-api) (1.14.6)\n",
      "Requirement already satisfied: pycparser in /Users/jovan/opt/anaconda3/lib/python3.9/site-packages (from cffi>=1.0.0->argon2-cffi->notebook>=4.0.0->lux-widget>=0.1.4->lux-api) (2.20)\n",
      "Requirement already satisfied: MarkupSafe>=0.23 in /Users/jovan/opt/anaconda3/lib/python3.9/site-packages (from jinja2->altair>=4.0.0->lux-api) (1.1.1)\n",
      "Requirement already satisfied: bleach in /Users/jovan/opt/anaconda3/lib/python3.9/site-packages (from nbconvert->notebook>=4.0.0->lux-widget>=0.1.4->lux-api) (4.0.0)\n",
      "Requirement already satisfied: pandocfilters>=1.4.1 in /Users/jovan/opt/anaconda3/lib/python3.9/site-packages (from nbconvert->notebook>=4.0.0->lux-widget>=0.1.4->lux-api) (1.4.3)\n",
      "Requirement already satisfied: defusedxml in /Users/jovan/opt/anaconda3/lib/python3.9/site-packages (from nbconvert->notebook>=4.0.0->lux-widget>=0.1.4->lux-api) (0.7.1)\n",
      "Requirement already satisfied: jupyterlab-pygments in /Users/jovan/opt/anaconda3/lib/python3.9/site-packages (from nbconvert->notebook>=4.0.0->lux-widget>=0.1.4->lux-api) (0.1.2)\n",
      "Requirement already satisfied: testpath in /Users/jovan/opt/anaconda3/lib/python3.9/site-packages (from nbconvert->notebook>=4.0.0->lux-widget>=0.1.4->lux-api) (0.5.0)\n",
      "Requirement already satisfied: mistune<2,>=0.8.1 in /Users/jovan/opt/anaconda3/lib/python3.9/site-packages (from nbconvert->notebook>=4.0.0->lux-widget>=0.1.4->lux-api) (0.8.4)\n",
      "Requirement already satisfied: nbclient<0.6.0,>=0.5.0 in /Users/jovan/opt/anaconda3/lib/python3.9/site-packages (from nbconvert->notebook>=4.0.0->lux-widget>=0.1.4->lux-api) (0.5.3)\n",
      "Requirement already satisfied: async-generator in /Users/jovan/opt/anaconda3/lib/python3.9/site-packages (from nbclient<0.6.0,>=0.5.0->nbconvert->notebook>=4.0.0->lux-widget>=0.1.4->lux-api) (1.10)\n",
      "Requirement already satisfied: nest-asyncio in /Users/jovan/opt/anaconda3/lib/python3.9/site-packages (from nbclient<0.6.0,>=0.5.0->nbconvert->notebook>=4.0.0->lux-widget>=0.1.4->lux-api) (1.5.1)\n",
      "Requirement already satisfied: packaging in /Users/jovan/opt/anaconda3/lib/python3.9/site-packages (from bleach->nbconvert->notebook>=4.0.0->lux-widget>=0.1.4->lux-api) (21.0)\n",
      "Requirement already satisfied: webencodings in /Users/jovan/opt/anaconda3/lib/python3.9/site-packages (from bleach->nbconvert->notebook>=4.0.0->lux-widget>=0.1.4->lux-api) (0.5.1)\n",
      "Note: you may need to restart the kernel to use updated packages.\n"
     ]
    }
   ],
   "source": [
    "pip install lux-api # data visualisation module installed"
   ]
  },
  {
   "cell_type": "code",
   "execution_count": 47,
   "id": "6ea9740b",
   "metadata": {},
   "outputs": [],
   "source": [
    "import requests\n",
    "import pandas as pd\n",
    "import numpy as np \n",
    "import lux\n",
    "import matplotlib.pyplot as plt\n",
    "from sklearn.model_selection import train_test_split\n",
    "from sklearn.linear_model import LinearRegression \n",
    "from sklearn.metrics import mean_squared_error"
   ]
  },
  {
   "cell_type": "code",
   "execution_count": 5,
   "id": "c28ca134",
   "metadata": {},
   "outputs": [],
   "source": [
    "# Now the relevant libraries and packages are installed, we can use these to carry out the relevant analysis"
   ]
  },
  {
   "cell_type": "markdown",
   "id": "bef62a66",
   "metadata": {},
   "source": [
    "# 2- Loading dataset from .CSV File and displaying"
   ]
  },
  {
   "cell_type": "markdown",
   "id": "d7ef5b89",
   "metadata": {},
   "source": [
    "## The dataset:"
   ]
  },
  {
   "cell_type": "code",
   "execution_count": 4,
   "id": "91770872",
   "metadata": {},
   "outputs": [],
   "source": [
    "# obtaining the relevant dataset of the scores and hours spent studying\n",
    "\n",
    "scores = \"/Users/jovan/Desktop/Exam Scores vs Hours.csv\"\n"
   ]
  },
  {
   "cell_type": "code",
   "execution_count": 5,
   "id": "d212add1",
   "metadata": {},
   "outputs": [
    {
     "data": {
      "text/plain": [
       "Index(['Hours / Day', 'Scores'], dtype='object')"
      ]
     },
     "execution_count": 5,
     "metadata": {},
     "output_type": "execute_result"
    }
   ],
   "source": [
    "scores = pd.read_csv(scores) #get the keys for each column and distinct variables\n",
    "scores.keys()"
   ]
  },
  {
   "cell_type": "code",
   "execution_count": 6,
   "id": "234b2a7f",
   "metadata": {},
   "outputs": [
    {
     "data": {
      "application/vnd.jupyter.widget-view+json": {
       "model_id": "97a7dbb0bb4c46048c1c241ffc16bc2b",
       "version_major": 2,
       "version_minor": 0
      },
      "text/plain": [
       "Button(description='Toggle Pandas/Lux', layout=Layout(top='5px', width='140px'), style=ButtonStyle())"
      ]
     },
     "metadata": {},
     "output_type": "display_data"
    },
    {
     "data": {
      "application/vnd.jupyter.widget-view+json": {
       "model_id": "dad41aca214f49ecaebc6c1669978a57",
       "version_major": 2,
       "version_minor": 0
      },
      "text/plain": [
       "Output()"
      ]
     },
     "metadata": {},
     "output_type": "display_data"
    }
   ],
   "source": [
    "scores # the table shows the hours spent studying by each student and the corresponding exam scores obtained."
   ]
  },
  {
   "cell_type": "markdown",
   "id": "136de828",
   "metadata": {},
   "source": [
    "# 3- Generating Descriptive Statistics "
   ]
  },
  {
   "cell_type": "code",
   "execution_count": 7,
   "id": "0d333214",
   "metadata": {},
   "outputs": [
    {
     "data": {
      "application/vnd.jupyter.widget-view+json": {
       "model_id": "777e1fe1aa774beb9cb958da1bb87dac",
       "version_major": 2,
       "version_minor": 0
      },
      "text/plain": [
       "Button(description='Toggle Pandas/Lux', layout=Layout(top='5px', width='140px'), style=ButtonStyle())"
      ]
     },
     "metadata": {},
     "output_type": "display_data"
    },
    {
     "data": {
      "application/vnd.jupyter.widget-view+json": {
       "model_id": "623f2a53800443ef87243e7f806a0b69",
       "version_major": 2,
       "version_minor": 0
      },
      "text/plain": [
       "Output()"
      ]
     },
     "metadata": {},
     "output_type": "display_data"
    }
   ],
   "source": [
    "scores.head() # gives the first 5 results"
   ]
  },
  {
   "cell_type": "code",
   "execution_count": 8,
   "id": "2d0102ab",
   "metadata": {},
   "outputs": [
    {
     "name": "stdout",
     "output_type": "stream",
     "text": [
      "(25, 2)\n"
     ]
    }
   ],
   "source": [
    "print(scores.shape) # columns and rows "
   ]
  },
  {
   "cell_type": "code",
   "execution_count": 9,
   "id": "112d8bc7",
   "metadata": {},
   "outputs": [
    {
     "data": {
      "text/plain": [
       "False"
      ]
     },
     "execution_count": 9,
     "metadata": {},
     "output_type": "execute_result"
    }
   ],
   "source": [
    "scores.isnull().values.any() # There are no NULL values in our dataset"
   ]
  },
  {
   "cell_type": "code",
   "execution_count": 10,
   "id": "e44c8330",
   "metadata": {},
   "outputs": [
    {
     "name": "stdout",
     "output_type": "stream",
     "text": [
      "{'Hours / Day': dtype('float64'), 'Scores': dtype('int64')}\n"
     ]
    }
   ],
   "source": [
    "dataTypeDict = dict(scores.dtypes) # gives us what type of data this is\n",
    "print(dataTypeDict)"
   ]
  },
  {
   "cell_type": "code",
   "execution_count": 11,
   "id": "1fdd006b",
   "metadata": {},
   "outputs": [
    {
     "name": "stdout",
     "output_type": "stream",
     "text": [
      "       Hours / Day     Scores\n",
      "count    25.000000  25.000000\n",
      "mean      5.012000  51.480000\n",
      "std       2.525094  25.286887\n",
      "min       1.100000  17.000000\n",
      "25%       2.700000  30.000000\n",
      "50%       4.800000  47.000000\n",
      "75%       7.400000  75.000000\n",
      "max       9.200000  95.000000\n"
     ]
    }
   ],
   "source": [
    "print(scores.describe()) # descriptive statistics"
   ]
  },
  {
   "cell_type": "markdown",
   "id": "c3b0f602",
   "metadata": {},
   "source": [
    "Average hours studied was 4.8 hrs/ day and the average score obtained across all students was 47 marks. We also found that the highest marks scored by a student was 95 marks and the lowest being 17 marks. "
   ]
  },
  {
   "cell_type": "markdown",
   "id": "08e471aa",
   "metadata": {},
   "source": [
    "# 4- Splitting dataset into Training & Testing Groups"
   ]
  },
  {
   "cell_type": "markdown",
   "id": "70600f90",
   "metadata": {},
   "source": [
    "Algorithm training in order to make predictions for hours studied and its equivalent exam scores. "
   ]
  },
  {
   "cell_type": "code",
   "execution_count": 18,
   "id": "6bf0862f",
   "metadata": {},
   "outputs": [],
   "source": [
    "train,test = train_test_split(scores,test_size=0.2)"
   ]
  },
  {
   "cell_type": "code",
   "execution_count": 20,
   "id": "bec4f0ad",
   "metadata": {},
   "outputs": [
    {
     "data": {
      "text/plain": [
       "(20, 2)"
      ]
     },
     "execution_count": 20,
     "metadata": {},
     "output_type": "execute_result"
    }
   ],
   "source": [
    "train.shape"
   ]
  },
  {
   "cell_type": "code",
   "execution_count": 21,
   "id": "a539b65b",
   "metadata": {},
   "outputs": [
    {
     "data": {
      "text/plain": [
       "(5, 2)"
      ]
     },
     "execution_count": 21,
     "metadata": {},
     "output_type": "execute_result"
    }
   ],
   "source": [
    "test.shape"
   ]
  },
  {
   "cell_type": "code",
   "execution_count": 25,
   "id": "ad805c20",
   "metadata": {},
   "outputs": [],
   "source": [
    "train_x=train.drop('Scores',axis=1)\n",
    "train_y=train['Scores']"
   ]
  },
  {
   "cell_type": "code",
   "execution_count": 26,
   "id": "749c1295",
   "metadata": {},
   "outputs": [],
   "source": [
    "test_x=test.drop('Scores',axis=1)\n",
    "test_y=test['Scores']"
   ]
  },
  {
   "cell_type": "markdown",
   "id": "ab90b26f",
   "metadata": {},
   "source": [
    "# 5- Training "
   ]
  },
  {
   "cell_type": "markdown",
   "id": "02fe929d",
   "metadata": {},
   "source": [
    "Using linear regression training for the dataset.\n",
    "\n",
    "- We now also produce statistics such as coefficient and intercept, the relationship for our training dataset to provide a general overview of the data that we are using."
   ]
  },
  {
   "cell_type": "code",
   "execution_count": 27,
   "id": "3cd9d9d3",
   "metadata": {},
   "outputs": [],
   "source": [
    "linear_regression=LinearRegression()"
   ]
  },
  {
   "cell_type": "code",
   "execution_count": 28,
   "id": "d731d8fb",
   "metadata": {},
   "outputs": [
    {
     "data": {
      "text/plain": [
       "LinearRegression()"
      ]
     },
     "execution_count": 28,
     "metadata": {},
     "output_type": "execute_result"
    }
   ],
   "source": [
    "linear_regression.fit(train_x,train_y)"
   ]
  },
  {
   "cell_type": "code",
   "execution_count": 35,
   "id": "cd303fa1",
   "metadata": {},
   "outputs": [
    {
     "data": {
      "text/plain": [
       "array([9.50829167])"
      ]
     },
     "execution_count": 35,
     "metadata": {},
     "output_type": "execute_result"
    }
   ],
   "source": [
    "linear_regression.coef_\n"
   ]
  },
  {
   "cell_type": "code",
   "execution_count": 36,
   "id": "239e5c19",
   "metadata": {},
   "outputs": [
    {
     "data": {
      "text/plain": [
       "3.9191760458696194"
      ]
     },
     "execution_count": 36,
     "metadata": {},
     "output_type": "execute_result"
    }
   ],
   "source": [
    "linear_regression.intercept_"
   ]
  },
  {
   "cell_type": "code",
   "execution_count": 38,
   "id": "9695d815",
   "metadata": {},
   "outputs": [],
   "source": [
    "# y=mx+c \n",
    "\n",
    "line=linear_regression.coef_*train_x+linear_regression.intercept_"
   ]
  },
  {
   "cell_type": "code",
   "execution_count": 42,
   "id": "8572ea9b",
   "metadata": {},
   "outputs": [
    {
     "data": {
      "image/png": "[encoded data removed]",
      "text/plain": [
       "<Figure size 432x288 with 1 Axes>"
      ]
     },
     "metadata": {
      "needs_background": "light"
     },
     "output_type": "display_data"
    }
   ],
   "source": [
    "plt.scatter(train_x,train_y)\n",
    "plt.plot(train_x,line);\n",
    "plt.show()"
   ]
  },
  {
   "cell_type": "markdown",
   "id": "204bae41",
   "metadata": {},
   "source": [
    "# 6- Using the testing to make predictions "
   ]
  },
  {
   "cell_type": "code",
   "execution_count": 43,
   "id": "89cb95bb",
   "metadata": {},
   "outputs": [],
   "source": [
    "prediction=linear_regression.predict(test_x)"
   ]
  },
  {
   "cell_type": "code",
   "execution_count": 45,
   "id": "9cb000a5",
   "metadata": {},
   "outputs": [
    {
     "data": {
      "text/plain": [
       "[(25, 29.591563543697763),\n",
       " (42, 35.29653854321513),\n",
       " (41, 46.70648854224986),\n",
       " (21, 27.689905210525307),\n",
       " (86, 78.08385103959536)]"
      ]
     },
     "execution_count": 45,
     "metadata": {},
     "output_type": "execute_result"
    }
   ],
   "source": [
    "list(zip(test_y,prediction))"
   ]
  },
  {
   "cell_type": "markdown",
   "id": "8f349d67",
   "metadata": {},
   "source": [
    "# 7- Comments On The Model\n"
   ]
  },
  {
   "cell_type": "code",
   "execution_count": 48,
   "id": "f7634310",
   "metadata": {},
   "outputs": [
    {
     "data": {
      "text/plain": [
       "6.418771048267304"
      ]
     },
     "execution_count": 48,
     "metadata": {},
     "output_type": "execute_result"
    }
   ],
   "source": [
    "mean_squared_error(test_y,prediction,squared=False)"
   ]
  },
  {
   "cell_type": "markdown",
   "id": "e1333a66",
   "metadata": {},
   "source": [
    "# 8- Problem Solution"
   ]
  },
  {
   "cell_type": "markdown",
   "id": "4d1bd3de",
   "metadata": {},
   "source": [
    "Student’s performance is determined by hours spent revising but is it always the case that more hours spent studying equals better scores or could there be anomalies? I will be making a simple prediction on score based off 9.25 hrs/ day."
   ]
  },
  {
   "cell_type": "code",
   "execution_count": 51,
   "id": "a5352e60",
   "metadata": {},
   "outputs": [
    {
     "name": "stdout",
     "output_type": "stream",
     "text": [
      "Hours per day = [[9.25]]\n",
      "Predicted Score = 91.87087395509566\n"
     ]
    }
   ],
   "source": [
    "Hours = [9.25]\n",
    "question_prediction=linear_regression.predict([Hours])\n",
    "print(\"Hours per day = {}\".format([Hours]))\n",
    "print(\"Predicted Score = {}\".format(question_prediction[0]))\n"
   ]
  },
  {
   "cell_type": "markdown",
   "id": "78a2b7fb",
   "metadata": {},
   "source": [
    "The final prediction that was made based of the trained model tells us that a student that spends roughly 9.25Hrs/Day studying will attain exam score of 92 marks. Based of the positive correlation between hours of studying and scores I would conclude that this is a fairly accurate prediction made by the algorithm. "
   ]
  }
 ],
 "metadata": {
  "kernelspec": {
   "display_name": "Python 3 (ipykernel)",
   "language": "python",
   "name": "python3"
  },
  "language_info": {
   "codemirror_mode": {
    "name": "ipython",
    "version": 3
   },
   "file_extension": ".py",
   "mimetype": "text/x-python",
   "name": "python",
   "nbconvert_exporter": "python",
   "pygments_lexer": "ipython3",
   "version": "3.9.7"
  }
 },
 "nbformat": 4,
 "nbformat_minor": 5
}
